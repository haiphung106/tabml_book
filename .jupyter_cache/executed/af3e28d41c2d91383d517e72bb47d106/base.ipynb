{
 "cells": [
  {
   "cell_type": "code",
   "execution_count": 1,
   "id": "theoretical-skirt",
   "metadata": {
    "tags": [
     "hide-input"
    ]
   },
   "outputs": [],
   "source": [
    "from pathlib import Path\n",
    "\n",
    "import pandas as pd\n",
    "from sklearn.compose import ColumnTransformer\n",
    "from sklearn.ensemble import RandomForestClassifier\n",
    "from sklearn.impute import KNNImputer, SimpleImputer\n",
    "from sklearn.metrics import accuracy_score\n",
    "from sklearn.model_selection import train_test_split\n",
    "from sklearn.pipeline import Pipeline\n",
    "from sklearn.preprocessing import OneHotEncoder, RobustScaler"
   ]
  },
  {
   "cell_type": "code",
   "execution_count": 2,
   "id": "satisfactory-insight",
   "metadata": {},
   "outputs": [],
   "source": [
    "data_dir = Path(\"../data/titanic\")\n",
    "df_train_full = pd.read_csv(data_dir / \"train.csv\")\n",
    "df_test = pd.read_csv(data_dir / \"test.csv\")"
   ]
  },
  {
   "cell_type": "code",
   "execution_count": 3,
   "id": "increased-fleece",
   "metadata": {},
   "outputs": [],
   "source": [
    "df_train_full.drop(columns=[\"Cabin\"])\n",
    "df_test.drop(columns=[\"Cabin\"]);"
   ]
  },
  {
   "cell_type": "code",
   "execution_count": 4,
   "id": "silver-waters",
   "metadata": {},
   "outputs": [],
   "source": [
    "df_train, df_val = train_test_split(df_train_full, test_size=0.1)\n",
    "X_train = df_train.copy()\n",
    "y_train = X_train.pop(\"Survived\")\n",
    "\n",
    "X_val = df_val.copy()\n",
    "y_val = X_val.pop(\"Survived\")"
   ]
  },
  {
   "cell_type": "code",
   "execution_count": 5,
   "id": "fitted-watson",
   "metadata": {},
   "outputs": [],
   "source": [
    "cat_cols = [\"Embarked\", \"Sex\", \"Pclass\"]\n",
    "cat_transformer = Pipeline(\n",
    "    steps=[\n",
    "        (\"imputer\", SimpleImputer(strategy=\"most_frequent\")),\n",
    "        (\"onehot\", OneHotEncoder(handle_unknown=\"ignore\", sparse=False)),\n",
    "    ]\n",
    ")"
   ]
  },
  {
   "cell_type": "code",
   "execution_count": 6,
   "id": "convertible-cathedral",
   "metadata": {},
   "outputs": [],
   "source": [
    "num_cols = [\"Age\", \"Fare\"]\n",
    "num_transformer = Pipeline(\n",
    "    steps=[(\"imputer\", KNNImputer(n_neighbors=5)), (\"scaler\", RobustScaler())]\n",
    ")"
   ]
  },
  {
   "cell_type": "code",
   "execution_count": 7,
   "id": "cheap-statement",
   "metadata": {},
   "outputs": [],
   "source": [
    "preprocessor = ColumnTransformer(\n",
    "    transformers=[\n",
    "        (\"num\", num_transformer, num_cols),\n",
    "        (\"cat\", cat_transformer, cat_cols),\n",
    "    ]\n",
    ")"
   ]
  },
  {
   "cell_type": "code",
   "execution_count": 8,
   "id": "classified-active",
   "metadata": {},
   "outputs": [
    {
     "name": "stdout",
     "output_type": "stream",
     "text": [
      "Accuracy score on train data: 0.98\n",
      "Accuracy score on validation data: 0.80\n"
     ]
    }
   ],
   "source": [
    "# Full training pipeline\n",
    "full_pp = Pipeline(\n",
    "    steps=[(\"preprocessor\", preprocessor), (\"classifier\", RandomForestClassifier())]\n",
    ")\n",
    "\n",
    "# training\n",
    "full_pp.fit(X_train, y_train)\n",
    "\n",
    "# training metric\n",
    "y_train_pred = full_pp.predict(X_train)\n",
    "print(f\"Accuracy score on train data: {accuracy_score(list(y_train), list(y_train_pred)):.2f}\")\n",
    "\n",
    "# validation metric\n",
    "y_pred = full_pp.predict(X_val)\n",
    "print(f\"Accuracy score on validation data: {accuracy_score(list(y_val), list(y_pred)):.2f}\")"
   ]
  },
  {
   "cell_type": "code",
   "execution_count": 9,
   "id": "centered-learning",
   "metadata": {},
   "outputs": [],
   "source": [
    "# make submission\n",
    "preds = full_pp.predict(df_test)\n",
    "sample_submission = pd.read_csv(data_dir / \"gender_submission.csv\")\n",
    "sample_submission[\"Survived\"] = preds\n",
    "sample_submission.to_csv(\"titanic_submission.csv\", index=False)"
   ]
  },
  {
   "cell_type": "code",
   "execution_count": 10,
   "id": "right-creation",
   "metadata": {},
   "outputs": [
    {
     "name": "stdout",
     "output_type": "stream",
     "text": [
      "Warning: Looks like you're using an outdated API Version, please consider updating (server 1.5.12 / client 1.5.6)\r\n",
      "\r",
      "  0%|                                               | 0.00/2.77k [00:00<?, ?B/s]"
     ]
    },
    {
     "name": "stdout",
     "output_type": "stream",
     "text": [
      "\r",
      "100%|██████████████████████████████████████| 2.77k/2.77k [00:02<00:00, 1.03kB/s]\r\n"
     ]
    },
    {
     "name": "stdout",
     "output_type": "stream",
     "text": [
      "Successfully submitted to Titanic - Machine Learning from Disaster"
     ]
    }
   ],
   "source": [
    "!kaggle competitions submit -c titanic -f titanic_submission.csv -m \"simple submission\""
   ]
  }
 ],
 "metadata": {
  "jupytext": {
   "text_representation": {
    "extension": ".md",
    "format_name": "myst",
    "format_version": 0.12,
    "jupytext_version": "1.8.2"
   }
  },
  "kernelspec": {
   "display_name": "Python 3",
   "language": "python",
   "name": "python3"
  },
  "language_info": {
   "codemirror_mode": {
    "name": "ipython",
    "version": 3
   },
   "file_extension": ".py",
   "mimetype": "text/x-python",
   "name": "python",
   "nbconvert_exporter": "python",
   "pygments_lexer": "ipython3",
   "version": "3.8.7"
  },
  "source_map": [
   12,
   18,
   31,
   35,
   39,
   43,
   46,
   50,
   57,
   61,
   69,
   73,
   78,
   82,
   89,
   93,
   109,
   113,
   119,
   123,
   125
  ]
 },
 "nbformat": 4,
 "nbformat_minor": 5
}