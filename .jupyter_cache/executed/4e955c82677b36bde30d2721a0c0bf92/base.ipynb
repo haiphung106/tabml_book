{
 "cells": [
  {
   "cell_type": "code",
   "execution_count": 1,
   "id": "dirty-gasoline",
   "metadata": {
    "tags": [
     "hide-input"
    ]
   },
   "outputs": [
    {
     "data": {
      "text/html": [
       "<div>\n",
       "<style scoped>\n",
       "    .dataframe tbody tr th:only-of-type {\n",
       "        vertical-align: middle;\n",
       "    }\n",
       "\n",
       "    .dataframe tbody tr th {\n",
       "        vertical-align: top;\n",
       "    }\n",
       "\n",
       "    .dataframe thead th {\n",
       "        text-align: right;\n",
       "    }\n",
       "</style>\n",
       "<table border=\"1\" class=\"dataframe\">\n",
       "  <thead>\n",
       "    <tr style=\"text-align: right;\">\n",
       "      <th></th>\n",
       "      <th>height</th>\n",
       "      <th>weight</th>\n",
       "      <th>height_2</th>\n",
       "      <th>weight_2</th>\n",
       "    </tr>\n",
       "  </thead>\n",
       "  <tbody>\n",
       "    <tr>\n",
       "      <th>0</th>\n",
       "      <td>147</td>\n",
       "      <td>49</td>\n",
       "      <td>110</td>\n",
       "      <td>49</td>\n",
       "    </tr>\n",
       "    <tr>\n",
       "      <th>1</th>\n",
       "      <td>150</td>\n",
       "      <td>50</td>\n",
       "      <td>150</td>\n",
       "      <td>90</td>\n",
       "    </tr>\n",
       "    <tr>\n",
       "      <th>2</th>\n",
       "      <td>153</td>\n",
       "      <td>51</td>\n",
       "      <td>153</td>\n",
       "      <td>51</td>\n",
       "    </tr>\n",
       "    <tr>\n",
       "      <th>3</th>\n",
       "      <td>158</td>\n",
       "      <td>54</td>\n",
       "      <td>158</td>\n",
       "      <td>54</td>\n",
       "    </tr>\n",
       "    <tr>\n",
       "      <th>4</th>\n",
       "      <td>163</td>\n",
       "      <td>58</td>\n",
       "      <td>163</td>\n",
       "      <td>58</td>\n",
       "    </tr>\n",
       "    <tr>\n",
       "      <th>5</th>\n",
       "      <td>165</td>\n",
       "      <td>59</td>\n",
       "      <td>165</td>\n",
       "      <td>59</td>\n",
       "    </tr>\n",
       "    <tr>\n",
       "      <th>6</th>\n",
       "      <td>168</td>\n",
       "      <td>60</td>\n",
       "      <td>168</td>\n",
       "      <td>60</td>\n",
       "    </tr>\n",
       "    <tr>\n",
       "      <th>7</th>\n",
       "      <td>170</td>\n",
       "      <td>62</td>\n",
       "      <td>170</td>\n",
       "      <td>62</td>\n",
       "    </tr>\n",
       "    <tr>\n",
       "      <th>8</th>\n",
       "      <td>173</td>\n",
       "      <td>63</td>\n",
       "      <td>173</td>\n",
       "      <td>63</td>\n",
       "    </tr>\n",
       "    <tr>\n",
       "      <th>9</th>\n",
       "      <td>175</td>\n",
       "      <td>64</td>\n",
       "      <td>175</td>\n",
       "      <td>64</td>\n",
       "    </tr>\n",
       "    <tr>\n",
       "      <th>10</th>\n",
       "      <td>178</td>\n",
       "      <td>66</td>\n",
       "      <td>178</td>\n",
       "      <td>66</td>\n",
       "    </tr>\n",
       "    <tr>\n",
       "      <th>11</th>\n",
       "      <td>180</td>\n",
       "      <td>67</td>\n",
       "      <td>180</td>\n",
       "      <td>67</td>\n",
       "    </tr>\n",
       "    <tr>\n",
       "      <th>12</th>\n",
       "      <td>183</td>\n",
       "      <td>68</td>\n",
       "      <td>183</td>\n",
       "      <td>68</td>\n",
       "    </tr>\n",
       "  </tbody>\n",
       "</table>\n",
       "</div>"
      ],
      "text/plain": [
       "    height  weight  height_2  weight_2\n",
       "0      147      49       110        49\n",
       "1      150      50       150        90\n",
       "2      153      51       153        51\n",
       "3      158      54       158        54\n",
       "4      163      58       163        58\n",
       "5      165      59       165        59\n",
       "6      168      60       168        60\n",
       "7      170      62       170        62\n",
       "8      173      63       173        63\n",
       "9      175      64       175        64\n",
       "10     178      66       178        66\n",
       "11     180      67       180        67\n",
       "12     183      68       183        68"
      ]
     },
     "execution_count": 1,
     "metadata": {},
     "output_type": "execute_result"
    }
   ],
   "source": [
    "import pandas as pd\n",
    "df = pd.DataFrame(\n",
    "    data={\n",
    "        \"height\": [147, 150, 153, 158, 163, 165, 168, 170, 173, 175, 178, 180, 183],\n",
    "        \"weight\": [49, 50, 51, 54, 58, 59, 60, 62, 63, 64, 66, 67, 68],\n",
    "        \"height_2\": [110, 150, 153, 158, 163, 165, 168, 170, 173, 175, 178, 180, 183],\n",
    "        \"weight_2\": [49, 90, 51, 54, 58, 59, 60, 62, 63, 64, 66, 67, 68],\n",
    "    }\n",
    ")\n",
    "df"
   ]
  },
  {
   "cell_type": "code",
   "execution_count": 2,
   "id": "divided-above",
   "metadata": {
    "tags": [
     "hide-input"
    ]
   },
   "outputs": [
    {
     "data": {
      "image/png": "[encoded data removed]",
      "text/plain": [
       "<Figure size 1224x432 with 3 Axes>"
      ]
     },
     "metadata": {
      "needs_background": "light"
     },
     "output_type": "display_data"
    }
   ],
   "source": [
    "from matplotlib import pyplot as plt\n",
    "\n",
    "from sklearn.linear_model import LinearRegression\n",
    "\n",
    "\n",
    "def fit_linear_regression_and_visualize(\n",
    "    df: pd.DataFrame, input_col: str, label_col: str\n",
    "):\n",
    "    # fit the model by Linear Regression\n",
    "    lin_reg = LinearRegression(fit_intercept=True)\n",
    "    lin_reg.fit(df[[input_col]], df[label_col])\n",
    "    w1 = lin_reg.coef_\n",
    "    w0 = lin_reg.intercept_\n",
    "\n",
    "    # visualize\n",
    "    plt.plot(df[input_col], df[label_col], \"ro\", label=\"data\")\n",
    "    plt.axis([105, 190, 45, 75])\n",
    "    plt.xlabel(\"Height (cm)\")\n",
    "    plt.ylabel(\"Weight (kg)\")\n",
    "    plt.ylim(45, 95)\n",
    "    plt.plot([105, 190], [w1 * 105 + w0, w1 * 190 + w0], label=\"fitted line\")\n",
    "    plt.legend()\n",
    "\n",
    "\n",
    "plt.figure(figsize=(17, 6))\n",
    "plt.subplot(1, 3, 1)\n",
    "fit_linear_regression_and_visualize(df, input_col=\"height\", label_col=\"weight\")\n",
    "\n",
    "plt.subplot(1, 3, 2)\n",
    "fit_linear_regression_and_visualize(df, input_col=\"height_2\", label_col=\"weight\")\n",
    "\n",
    "plt.subplot(1, 3, 3)\n",
    "fit_linear_regression_and_visualize(df, input_col=\"height\", label_col=\"weight_2\")"
   ]
  }
 ],
 "metadata": {
  "jupytext": {
   "text_representation": {
    "extension": ".md",
    "format_name": "myst",
    "format_version": 0.12,
    "jupytext_version": "1.8.2"
   }
  },
  "kernelspec": {
   "display_name": "Python 3",
   "language": "python",
   "name": "python3"
  },
  "language_info": {
   "codemirror_mode": {
    "name": "ipython",
    "version": 3
   },
   "file_extension": ".py",
   "mimetype": "text/x-python",
   "name": "python",
   "nbconvert_exporter": "python",
   "pygments_lexer": "ipython3",
   "version": "3.8.8"
  },
  "source_map": [
   12,
   38,
   51,
   59,
   95,
   119
  ]
 },
 "nbformat": 4,
 "nbformat_minor": 5
}